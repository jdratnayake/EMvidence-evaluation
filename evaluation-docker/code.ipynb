{
 "cells": [
  {
   "cell_type": "code",
   "execution_count": 128,
   "metadata": {},
   "outputs": [],
   "source": [
    "import csv \n",
    "import os"
   ]
  },
  {
   "cell_type": "markdown",
   "metadata": {},
   "source": [
    "# Create CSV Files"
   ]
  },
  {
   "cell_type": "code",
   "execution_count": 129,
   "metadata": {},
   "outputs": [],
   "source": [
    "def convert_to_mib(memory):\n",
    "    # Convert memory to MiB if necessary\n",
    "    if 'GiB' in memory:\n",
    "        memory_in_gib = float(memory[:-3])\n",
    "        memory_in_mib = memory_in_gib * 1024\n",
    "        return f\"{memory_in_mib:.2f}MiB\"\n",
    "    elif 'MiB' in memory:\n",
    "        return memory\n",
    "    else:\n",
    "        raise ValueError(\"Invalid memory format\")\n",
    "\n",
    "\n",
    "def extract_info(file_name):\n",
    "    cpu_percentages = []\n",
    "    mem_usages = []\n",
    "\n",
    "    with open(file_name, 'r') as file:\n",
    "        for line in file:\n",
    "            values = line.split()\n",
    "            \n",
    "            cpu_percentages.append(float(values[2][:-1]))\n",
    "            mem_usages.append(float(convert_to_mib(values[3])[:-3]))\n",
    "\n",
    "    return cpu_percentages, mem_usages\n",
    "\n",
    "\n",
    "def write_to_csv(cpu_percentages, mem_usages, output_file):\n",
    "    with open(output_file, mode='w', newline='') as file:\n",
    "        writer = csv.writer(file)\n",
    "        writer.writerow(['CPU (%)', 'Memory Usage (MB)'])\n",
    "        for i in range(len(cpu_percentages)):\n",
    "            writer.writerow([cpu_percentages[i], mem_usages[i]])"
   ]
  },
  {
   "cell_type": "code",
   "execution_count": 130,
   "metadata": {},
   "outputs": [],
   "source": [
    "def list_txt_files_in_folder(folder_path):\n",
    "    txt_files = []\n",
    "    try:\n",
    "        for file in os.listdir(folder_path):\n",
    "            if file.endswith(\".txt\") and os.path.isfile(os.path.join(folder_path, file)):\n",
    "                txt_files.append(file)\n",
    "    except Exception as e:\n",
    "        print(f\"Error occurred while listing .txt files: {e}\")\n",
    "    return txt_files"
   ]
  },
  {
   "cell_type": "code",
   "execution_count": 131,
   "metadata": {},
   "outputs": [
    {
     "name": "stdout",
     "output_type": "stream",
     "text": [
      "data_centralized.txt\n",
      "Data has been written to ./output/data_centralized.txt.csv\n",
      "data_distribute.txt\n",
      "Data has been written to ./output/data_distribute.txt.csv\n"
     ]
    }
   ],
   "source": [
    "input_folder_path = \"./txt/\"\n",
    "output_folder_path = \"./output/\"\n",
    "\n",
    "files_in_folder = list_txt_files_in_folder(input_folder_path)\n",
    "\n",
    "for file_name in files_in_folder:\n",
    "    print(file_name)\n",
    "    file_path = input_folder_path + file_name\n",
    "    output_file_path = \"./output/\" + file_name.split()[0] + \".csv\"\n",
    "\n",
    "    cpu_percentages, mem_usages = extract_info(file_path)\n",
    "    write_to_csv(cpu_percentages, mem_usages, output_file_path)\n",
    "    \n",
    "    print(f'Data has been written to {output_file_path}')"
   ]
  },
  {
   "cell_type": "markdown",
   "metadata": {},
   "source": [
    "# Generate Charts"
   ]
  },
  {
   "cell_type": "markdown",
   "metadata": {},
   "source": []
  }
 ],
 "metadata": {
  "kernelspec": {
   "display_name": "Python 3",
   "language": "python",
   "name": "python3"
  },
  "language_info": {
   "codemirror_mode": {
    "name": "ipython",
    "version": 3
   },
   "file_extension": ".py",
   "mimetype": "text/x-python",
   "name": "python",
   "nbconvert_exporter": "python",
   "pygments_lexer": "ipython3",
   "version": "3.9.6"
  }
 },
 "nbformat": 4,
 "nbformat_minor": 2
}
