{
 "cells": [
  {
   "cell_type": "code",
   "execution_count": null,
   "metadata": {},
   "outputs": [],
   "source": [
    "import csv \n",
    "import os\n",
    "import matplotlib.pyplot as plt\n",
    "import numpy as np\n",
    "import pandas as pd\n",
    "from scipy.interpolate import interp1d"
   ]
  },
  {
   "cell_type": "code",
   "execution_count": null,
   "metadata": {},
   "outputs": [],
   "source": [
    "# owner__title__cpu/memory__sandbox__extraName\n",
    "\n",
    "# e.g. janitha__CPU_Usage__cpu__m1__centralized_plugin\n",
    "# e.g. janitha__CPU_Usage__cpu__m2__centralized_plugin\n",
    "\n",
    "name_mapper = {\n",
    "    \"x_label\" : \"Time\",\n",
    "    \"time\" : \"Time (s)\",\n",
    "    \"cpu\" : \"CPU (%)\",\n",
    "    \"memory\": \"Memory (MB)\",\n",
    "    \"m1\" : \"Machine 1\",\n",
    "    \"m2\" : \"Machine 2\",\n",
    "    \"m3\" : \"Machine 3\",\n",
    "    \"traditional_1_5GB\" : \"Traditional (1.51 GB)\",\n",
    "    \"traditional_4_5GB\" : \"Traditional (4.46 GB)\",\n",
    "    \"chuck_15MB_1_5GB\" : \"Chuck 15 MB (1.51 GB)\",\n",
    "    \"chuck_15MB_4_5GB\" : \"Chuck 15 MB (4.46 GB)\",\n",
    "    \"chuck_25MB_1_5GB\" : \"Chuck 25 MB (1.51 GB)\",\n",
    "    \"chuck_25MB_4_5GB\" : \"Chuck 25 MB (4.46 GB)\",\n",
    "    \"chuck_50MB_1_5GB\" : \"Chuck 50 MB (1.51 GB)\",\n",
    "    \"chuck_50MB_4_5GB\" : \"Chuck 50 MB (4.46 GB)\",\n",
    "    \"gzip_1_5GB\" : \"Gzip (1.51 GB)\",\n",
    "    \"gzip_4_5GB\" : \"Gzip (4.46 GB)\",\n",
    "    \"bzip2_1_5GB\" : \"bzip2 (1.51 GB)\",\n",
    "    \"bzip2_4_5GB\" : \"bzip2 (4.46 GB)\",\n",
    "    \"centralized_plugin\" : \"Centralized Plugin\",\n",
    "    \"distributed_plugin\" : \"Distributed Plugin\",\n",
    "    \"not_downsampled_overlap_to_10_select_all_samples\" : \"S1\",\n",
    "    \"not_downsampled_overlap_to_10_select_samples_from_1_4_to_3_4\" : \"S2\",\n",
    "    \"not_downsampled_overlap_to_20_select_all_samples\" : \"S3\",\n",
    "    \"not_downsampled_overlap_to_20_select_samples_from_1_4_to_3_4\" : \"S4\",\n",
    "    \"down_sampled_to_10MHz_overlap_to_10_select_all_samples\" : \"S5\",\n",
    "    \"down_sampled_to_10MHz_overlap_to_10_select_samples_from_1_4_to_3_4\" : \"S6\",\n",
    "    \"down_sampled_to_10MHz_overlap_to_20_select_all_samples\" : \"S7\",\n",
    "    \"down_sampled_to_10MHz_overlap_to_20_select_samples_from_1_4_to_3_4\" : \"S8\",\n",
    "    # \"\" : \"\",\n",
    "}"
   ]
  },
  {
   "cell_type": "markdown",
   "metadata": {},
   "source": [
    "# Create CSV Files"
   ]
  },
  {
   "cell_type": "code",
   "execution_count": null,
   "metadata": {},
   "outputs": [],
   "source": [
    "def convert_to_mib(memory):\n",
    "    # Convert memory to MiB if necessary\n",
    "    if 'GiB' in memory:\n",
    "        memory_in_gib = float(memory[:-3])\n",
    "        memory_in_mib = memory_in_gib * 1024\n",
    "        return f\"{memory_in_mib:.2f}MiB\"\n",
    "    elif 'MiB' in memory:\n",
    "        return memory\n",
    "    else:\n",
    "        raise ValueError(\"Invalid memory format\")\n",
    "\n",
    "\n",
    "def extract_info(file_name):\n",
    "    cpu_percentages = []\n",
    "    mem_usages = []\n",
    "    time_values = []\n",
    "\n",
    "    with open(file_name, 'r') as file:\n",
    "        for line_number, line in enumerate(file):\n",
    "            values = line.split()\n",
    "            \n",
    "            if line_number % 3 == 1:\n",
    "                cpu_percentages.append(float(values[2][:-1]))\n",
    "                mem_usages.append(float(convert_to_mib(values[3])[:-3]))\n",
    "            elif line_number % 3 == 2:\n",
    "                time_values.append(float(values[0]))\n",
    "\n",
    "    return cpu_percentages, mem_usages, time_values\n",
    "\n",
    "\n",
    "def write_to_csv(cpu_percentages, mem_usages, time_values, output_file):\n",
    "    with open(output_file, mode='w', newline='') as file:\n",
    "        writer = csv.writer(file)\n",
    "        writer.writerow([name_mapper[\"time\"], name_mapper[\"cpu\"], name_mapper[\"memory\"]])\n",
    "        for i in range(len(cpu_percentages)):\n",
    "            writer.writerow([time_values[i], cpu_percentages[i], mem_usages[i]])"
   ]
  },
  {
   "cell_type": "code",
   "execution_count": null,
   "metadata": {},
   "outputs": [],
   "source": [
    "def list_txt_files_in_folder(folder_path):\n",
    "    txt_files = []\n",
    "    try:\n",
    "        for file in os.listdir(folder_path):\n",
    "            if file.endswith(\".txt\") and os.path.isfile(os.path.join(folder_path, file)):\n",
    "                txt_files.append(file)\n",
    "    except Exception as e:\n",
    "        print(f\"Error occurred while listing .txt files: {e}\")\n",
    "    return txt_files"
   ]
  },
  {
   "cell_type": "code",
   "execution_count": null,
   "metadata": {},
   "outputs": [],
   "source": [
    "input_folder_path = \"./1_input/\"\n",
    "preprocess_folder_path = \"./2_preprocess/\"\n",
    "line_chart_folder_path = \"1_line_chart/\"\n",
    "\n",
    "files_in_folder = list_txt_files_in_folder(input_folder_path + line_chart_folder_path)\n",
    "\n",
    "for file_name in files_in_folder:\n",
    "    input_file_path = input_folder_path + line_chart_folder_path + file_name\n",
    "    preprocess_file_path = preprocess_folder_path + line_chart_folder_path + file_name.split(\".\")[0] + \".csv\"\n",
    "\n",
    "    cpu_percentages, mem_usages, time_values = extract_info(input_file_path)\n",
    "    write_to_csv(cpu_percentages, mem_usages, time_values, preprocess_file_path)\n",
    "    \n",
    "    print(f'Data has been written to {preprocess_file_path}')"
   ]
  },
  {
   "cell_type": "markdown",
   "metadata": {},
   "source": [
    "# Generate Charts"
   ]
  },
  {
   "cell_type": "code",
   "execution_count": null,
   "metadata": {},
   "outputs": [],
   "source": [
    "def list_csv_files_in_folder(folder_path):\n",
    "    csv_files = []\n",
    "    try:\n",
    "        for file in os.listdir(folder_path):\n",
    "            if file.endswith(\".csv\") and os.path.isfile(os.path.join(folder_path, file)):\n",
    "                csv_files.append(file)\n",
    "    except Exception as e:\n",
    "        print(f\"Error occurred while listing .csv files: {e}\")\n",
    "    return csv_files"
   ]
  },
  {
   "cell_type": "code",
   "execution_count": null,
   "metadata": {},
   "outputs": [],
   "source": [
    "# janitha__CPU_Usage__cpu__m1__centralized_plugin\n",
    "# janitha__CPU_Usage__cpu__m1__distributed_plugin\n",
    "\n",
    "csv_files_in_folder = list_csv_files_in_folder(preprocess_folder_path + line_chart_folder_path)\n",
    "csv_files_in_folder_sorted = sorted(csv_files_in_folder)\n",
    "\n",
    "result = {}\n",
    "\n",
    "for item in csv_files_in_folder_sorted:\n",
    "    parts = item.split(\"__\")\n",
    "    key = \"__\".join(parts[:-1])  # Join all parts except the last one\n",
    "    value = parts[-1].split(\".\")[0]\n",
    "    result.setdefault(key, []).append(value)\n",
    "\n",
    "print(result)\n"
   ]
  },
  {
   "cell_type": "code",
   "execution_count": null,
   "metadata": {},
   "outputs": [],
   "source": [
    "chart_folder_path = \"./3_chart/\""
   ]
  },
  {
   "cell_type": "markdown",
   "metadata": {},
   "source": [
    "# Line Chart Generation"
   ]
  },
  {
   "cell_type": "code",
   "execution_count": null,
   "metadata": {},
   "outputs": [],
   "source": [
    "# janitha__CPU_Usage__cpu__m1__centralized_plugin\n",
    "for key, values in result.items():\n",
    "    # values = sorted(values)\n",
    "    # print(values)\n",
    "\n",
    "    mapped_dictionary = {name_mapper[value]:value for value in values}\n",
    "    mapped_array = [name_mapper[value] for value in values]\n",
    "    mapped_array = sorted(mapped_array)\n",
    "    values = [mapped_dictionary[item] for item in mapped_array]\n",
    "\n",
    "    for value in values:\n",
    "        file_path = preprocess_folder_path + line_chart_folder_path + key + \"__\" + value + \".csv\"\n",
    "        usage_type = key.split(\"__\")[2]\n",
    "        title = \" \".join(key.split(\"__\")[1].split(\"_\"))\n",
    "        chart_folder = key.split(\"__\")[0]\n",
    "        usage_values = []\n",
    "        time_values = []\n",
    "        \n",
    "        with open(file_path, \"r\") as csvfile:\n",
    "            reader = csv.DictReader(csvfile)\n",
    "            for row in reader:\n",
    "                time_value = float(row[name_mapper[\"time\"]])\n",
    "                usage_value = float(row[name_mapper[usage_type]])\n",
    "                time_values.append(time_value)\n",
    "                usage_values.append(usage_value)\n",
    "    \n",
    "        \n",
    "        x = np.array(time_values)\n",
    "\n",
    "        y = np.array(usage_values)\n",
    "        # y_min = np.min(y)\n",
    "        # y = y - y_min\n",
    "        f = interp1d(x, y, kind='cubic')\n",
    "        x_new = np.linspace(x.min(), x.max(), 300)\n",
    "        y_smooth = f(x_new)\n",
    "\n",
    "        # Set negative values to zero\n",
    "        y_smooth[y_smooth < 0] = 0\n",
    "        \n",
    "        plt.plot(x_new, y_smooth, marker='', linestyle='-', label=name_mapper[value])\n",
    "        plt.title(title)\n",
    "        plt.xlabel(name_mapper[\"x_label\"])\n",
    "        plt.ylabel(name_mapper[usage_type])\n",
    "        plt.grid(True)\n",
    "        plt.legend()\n",
    "        plt.tight_layout()\n",
    "\n",
    "        chart_file_name = key + \".png\"\n",
    "        chart_file_path = chart_folder_path + chart_folder + \"/\" + line_chart_folder_path + chart_file_name\n",
    "        plt.savefig(chart_file_path, dpi=300)\n",
    "    plt.clf()"
   ]
  },
  {
   "cell_type": "markdown",
   "metadata": {},
   "source": [
    "# Box Plot Generation"
   ]
  },
  {
   "cell_type": "code",
   "execution_count": null,
   "metadata": {},
   "outputs": [],
   "source": [
    "# m0 = not depends on the sandbox\n",
    "# owner__title__xlabel__ylabel__horizontal_line_value__extraName__sandbox\n",
    "\n",
    "# e.g. dinil__Sampling_Rate_=_10MHz__Time_(s)__ __File_Size_(MB)__file_size_against_time_10MHz__m1\n",
    "# dinil__M1__Preproessing_Setting__Time_(s)__ __time_against_preproessing_setting_for_each_sandbox__m1\n",
    "# dinil__M2__Preproessing_Setting__Time_(s)__ __time_against_preproessing_setting_for_each_sandbox__m2\n",
    "# dinil__M3__Preproessing_Setting__Time_(s)__ __time_against_preproessing_setting_for_each_sandbox__m3"
   ]
  },
  {
   "cell_type": "code",
   "execution_count": 16,
   "metadata": {},
   "outputs": [],
   "source": [
    "box_plot_folder_path = \"2_box_plot/\"\n",
    "\n",
    "csv_files_in_folder = list_csv_files_in_folder(input_folder_path + box_plot_folder_path)\n",
    "\n",
    "for filename in csv_files_in_folder:\n",
    "    data = pd.read_csv(input_folder_path + box_plot_folder_path + filename)\n",
    "    owner_name = filename.split(\"__\")[0]\n",
    "    \n",
    "\n",
    "    title = \" \".join(filename.split(\"__\")[1].split(\"_\"))\n",
    "    xlabel = \" \".join(filename.split(\"__\")[2].split(\"_\"))\n",
    "    ylabel = \" \".join(filename.split(\"__\")[3].split(\"_\"))\n",
    "    horizontal_line_value = filename.split(\"__\")[4]\n",
    "\n",
    "    # Creating the box plot\n",
    "    bp = plt.boxplot(data.values, labels=data.columns, patch_artist=True)\n",
    "\n",
    "    # List of colors for each box\n",
    "    box_colors = ['pink', 'lightblue', 'lightgreen']\n",
    "\n",
    "    # Assigning colors to each box\n",
    "    for i, box in enumerate(bp['boxes']):\n",
    "        color_index = i % len(box_colors)  # Wrap around the color index\n",
    "        box.set_facecolor(box_colors[color_index])\n",
    "\n",
    "    if xlabel == \"Uploading Mechanism\":\n",
    "        # minimize font size\n",
    "        plt.xticks(fontsize=6)\n",
    "    # Adding labels and title\n",
    "    plt.title(title)\n",
    "    plt.xlabel(xlabel)\n",
    "    plt.ylabel(ylabel)\n",
    "\n",
    "    if horizontal_line_value != \" \":\n",
    "        plt.axhline(y=float(horizontal_line_value), color='r', linestyle='--')\n",
    "\n",
    "    # Displaying the plot\n",
    "    plt.savefig(chart_folder_path + owner_name + \"/\" + box_plot_folder_path + filename.split(\".csv\")[0] + \".png\", dpi=300)\n",
    "    plt.clf()\n",
    "    plt.close()\n"
   ]
  },
  {
   "cell_type": "markdown",
   "metadata": {},
   "source": [
    "# Bar Chart Generation"
   ]
  },
  {
   "cell_type": "code",
   "execution_count": null,
   "metadata": {},
   "outputs": [],
   "source": [
    "# m0 = not depends on the sandbox\n",
    "# owner__title__xlabel__ylabel__extraName__sandbox\n",
    "\n",
    "# e.g. dinil__Preproessing__Setting__File_Size_(MB)__file_size_against_preproessing_settings__m0"
   ]
  },
  {
   "cell_type": "code",
   "execution_count": null,
   "metadata": {},
   "outputs": [],
   "source": [
    "bar_chart_folder_path = \"3_bar_chart/\"\n",
    "\n",
    "csv_files_in_folder = list_csv_files_in_folder(input_folder_path + bar_chart_folder_path)\n",
    "\n",
    "for filename in csv_files_in_folder:\n",
    "    data = pd.read_csv(input_folder_path + bar_chart_folder_path + filename)\n",
    "    owner_name = filename.split(\"__\")[0]\n",
    "    \n",
    "\n",
    "    title = \" \".join(filename.split(\"__\")[1].split(\"_\"))\n",
    "    xlabel = \" \".join(filename.split(\"__\")[2].split(\"_\"))\n",
    "    ylabel = \" \".join(filename.split(\"__\")[3].split(\"_\"))\n",
    "\n",
    "    categories = data['Category']\n",
    "    values = data['Value']\n",
    "\n",
    "    # Create bar chart\n",
    "    plt.bar(categories, values, color='skyblue')\n",
    "\n",
    "    # Add labels and title\n",
    "    plt.title(title)\n",
    "    plt.xlabel(xlabel)\n",
    "    plt.ylabel(ylabel)\n",
    "    plt.savefig(chart_folder_path + owner_name + \"/\" + bar_chart_folder_path + filename.split(\".\")[0] + \".png\", dpi=300)\n",
    "    plt.close()"
   ]
  },
  {
   "cell_type": "markdown",
   "metadata": {},
   "source": [
    "# Customized code for a Box Plot"
   ]
  },
  {
   "cell_type": "code",
   "execution_count": null,
   "metadata": {},
   "outputs": [],
   "source": [
    "filename = \"dinil__Sampling_Rate_=_10MHz__Time_(s)__File_Size_(MB)__762.94__file_size_against_sampling_rate_10s___m0.csv\"\n",
    "file_path = input_folder_path + box_plot_folder_path + filename\n",
    "\n",
    "data = pd.read_csv(file_path)"
   ]
  },
  {
   "cell_type": "code",
   "execution_count": null,
   "metadata": {},
   "outputs": [],
   "source": [
    "data = pd.read_csv(input_folder_path + box_plot_folder_path + filename)\n",
    "owner_name = filename.split(\"__\")[0]\n",
    "\n",
    "\n",
    "title = \" \".join(filename.split(\"__\")[1].split(\"_\"))\n",
    "xlabel = \" \".join(filename.split(\"__\")[2].split(\"_\"))\n",
    "ylabel = \" \".join(filename.split(\"__\")[3].split(\"_\"))\n",
    "horizontal_line_value = filename.split(\"__\")[4]\n",
    "\n",
    "y_min = 10 * (data.values.min() // 10)\n",
    "y_max = 10 * ((data.values.max() + 9) // 10)\n",
    "\n",
    "# Creating the box plot\n",
    "bp = plt.boxplot(data.values, labels=data.columns, patch_artist=True)\n",
    "\n",
    "# List of colors for each box\n",
    "box_colors = ['pink', 'lightblue', 'lightgreen']\n",
    "\n",
    "# Assigning colors to each box\n",
    "for i, box in enumerate(bp['boxes']):\n",
    "    color_index = i % len(box_colors)  # Wrap around the color index\n",
    "    box.set_facecolor(box_colors[color_index])\n",
    "\n",
    "# Adding labels and title\n",
    "plt.title(title)\n",
    "plt.xlabel(xlabel)\n",
    "plt.ylabel(ylabel)\n",
    "\n",
    "if horizontal_line_value != \" \":\n",
    "    plt.axhline(y=float(horizontal_line_value), color='r', linestyle='--')\n",
    "\n",
    "# Set y-axis range to multiples of 10\n",
    "plt.ylim(y_min, y_max)\n",
    "\n",
    "# Set y-axis ticks to multiples of 10\n",
    "plt.yticks(np.arange(y_min, y_max + 10, 10))\n",
    "# Displaying the plot\n",
    "plt.savefig(chart_folder_path + owner_name + \"/\" + box_plot_folder_path + filename.split(\".csv\")[0] + \".png\", dpi=300)\n",
    "plt.clf()\n",
    "plt.close()"
   ]
  },
  {
   "cell_type": "code",
   "execution_count": null,
   "metadata": {},
   "outputs": [],
   "source": []
  }
 ],
 "metadata": {
  "kernelspec": {
   "display_name": "Python 3",
   "language": "python",
   "name": "python3"
  },
  "language_info": {
   "codemirror_mode": {
    "name": "ipython",
    "version": 3
   },
   "file_extension": ".py",
   "mimetype": "text/x-python",
   "name": "python",
   "nbconvert_exporter": "python",
   "pygments_lexer": "ipython3",
   "version": "3.9.6"
  }
 },
 "nbformat": 4,
 "nbformat_minor": 2
}
