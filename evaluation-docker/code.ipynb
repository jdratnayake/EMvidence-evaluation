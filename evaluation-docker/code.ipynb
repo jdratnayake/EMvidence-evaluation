{
 "cells": [
  {
   "cell_type": "code",
   "execution_count": 163,
   "metadata": {},
   "outputs": [],
   "source": [
    "import csv \n",
    "import os\n",
    "import matplotlib.pyplot as plt\n",
    "import numpy as np\n",
    "from scipy.interpolate import interp1d"
   ]
  },
  {
   "cell_type": "markdown",
   "metadata": {},
   "source": [
    "# Create CSV Files"
   ]
  },
  {
   "cell_type": "code",
   "execution_count": 164,
   "metadata": {},
   "outputs": [],
   "source": [
    "def convert_to_mib(memory):\n",
    "    # Convert memory to MiB if necessary\n",
    "    if 'GiB' in memory:\n",
    "        memory_in_gib = float(memory[:-3])\n",
    "        memory_in_mib = memory_in_gib * 1024\n",
    "        return f\"{memory_in_mib:.2f}MiB\"\n",
    "    elif 'MiB' in memory:\n",
    "        return memory\n",
    "    else:\n",
    "        raise ValueError(\"Invalid memory format\")\n",
    "\n",
    "\n",
    "def extract_info(file_name):\n",
    "    cpu_percentages = []\n",
    "    mem_usages = []\n",
    "\n",
    "    with open(file_name, 'r') as file:\n",
    "        for line in file:\n",
    "            values = line.split()\n",
    "            \n",
    "            cpu_percentages.append(float(values[2][:-1]))\n",
    "            mem_usages.append(float(convert_to_mib(values[3])[:-3]))\n",
    "\n",
    "    return cpu_percentages, mem_usages\n",
    "\n",
    "\n",
    "def write_to_csv(cpu_percentages, mem_usages, output_file):\n",
    "    with open(output_file, mode='w', newline='') as file:\n",
    "        writer = csv.writer(file)\n",
    "        writer.writerow(['CPU (%)', 'Memory Usage (MB)'])\n",
    "        for i in range(len(cpu_percentages)):\n",
    "            writer.writerow([cpu_percentages[i], mem_usages[i]])"
   ]
  },
  {
   "cell_type": "code",
   "execution_count": 165,
   "metadata": {},
   "outputs": [],
   "source": [
    "def list_txt_files_in_folder(folder_path):\n",
    "    txt_files = []\n",
    "    try:\n",
    "        for file in os.listdir(folder_path):\n",
    "            if file.endswith(\".txt\") and os.path.isfile(os.path.join(folder_path, file)):\n",
    "                txt_files.append(file)\n",
    "    except Exception as e:\n",
    "        print(f\"Error occurred while listing .txt files: {e}\")\n",
    "    return txt_files"
   ]
  },
  {
   "cell_type": "code",
   "execution_count": 166,
   "metadata": {},
   "outputs": [
    {
     "name": "stdout",
     "output_type": "stream",
     "text": [
      "data_centralized.txt\n",
      "Data has been written to ./output/data_centralized.csv\n",
      "data_distribute.txt\n",
      "Data has been written to ./output/data_distribute.csv\n"
     ]
    }
   ],
   "source": [
    "input_folder_path = \"./txt/\"\n",
    "output_folder_path = \"./output/\"\n",
    "\n",
    "files_in_folder = list_txt_files_in_folder(input_folder_path)\n",
    "\n",
    "for file_name in files_in_folder:\n",
    "    print(file_name)\n",
    "    file_path = input_folder_path + file_name\n",
    "    output_file_path = \"./output/\" + file_name.split(\".\")[0] + \".csv\"\n",
    "\n",
    "    cpu_percentages, mem_usages = extract_info(file_path)\n",
    "    write_to_csv(cpu_percentages, mem_usages, output_file_path)\n",
    "    \n",
    "    print(f'Data has been written to {output_file_path}')"
   ]
  },
  {
   "cell_type": "markdown",
   "metadata": {},
   "source": [
    "# Generate Charts"
   ]
  },
  {
   "cell_type": "code",
   "execution_count": 167,
   "metadata": {},
   "outputs": [],
   "source": [
    "def list_csv_files_in_folder(folder_path):\n",
    "    csv_files = []\n",
    "    try:\n",
    "        for file in os.listdir(folder_path):\n",
    "            if file.endswith(\".csv\") and os.path.isfile(os.path.join(folder_path, file)):\n",
    "                csv_files.append(file)\n",
    "    except Exception as e:\n",
    "        print(f\"Error occurred while listing .csv files: {e}\")\n",
    "    return csv_files"
   ]
  },
  {
   "cell_type": "code",
   "execution_count": 169,
   "metadata": {},
   "outputs": [
    {
     "name": "stdout",
     "output_type": "stream",
     "text": [
      "./output/data_distribute.csv\n",
      "./output/data_centralized.csv\n"
     ]
    },
    {
     "data": {
      "text/plain": [
       "<Figure size 640x480 with 0 Axes>"
      ]
     },
     "metadata": {},
     "output_type": "display_data"
    }
   ],
   "source": [
    "csv_files_in_folder = list_csv_files_in_folder(output_folder_path)\n",
    "chart_folder_path = \"./chart/\"\n",
    "\n",
    "for file_name in csv_files_in_folder:\n",
    "    mem_usages = []\n",
    "\n",
    "    file_path = output_folder_path + file_name\n",
    "    print(file_path)\n",
    "\n",
    "    with open(file_path, \"r\") as csvfile:\n",
    "        reader = csv.DictReader(csvfile)\n",
    "        for row in reader:\n",
    "            mem_usage = float(row[\"Memory Usage (MB)\"])\n",
    "            mem_usages.append(mem_usage)\n",
    "    \n",
    "    x = np.arange(len(mem_usages))\n",
    "\n",
    "    y = np.array(mem_usages)\n",
    "    f = interp1d(x, y, kind='cubic')\n",
    "    x_new = np.linspace(x.min(), x.max(), 300)\n",
    "    y_smooth = f(x_new)\n",
    "    \n",
    "    plt.plot(x_new, y_smooth, marker='', linestyle='-')\n",
    "    plt.title('Memory Usage Over Time')\n",
    "    plt.xlabel('Data Point')\n",
    "    plt.ylabel('Memory Usage (MiB)')\n",
    "    plt.grid(True)\n",
    "    plt.tight_layout()\n",
    "\n",
    "    chart_file_name = file_name.split(\".\")[0] + \".png\"\n",
    "    chart_file_path = chart_folder_path + chart_file_name\n",
    "    plt.savefig(chart_file_path, dpi=300)\n",
    "    plt.clf()\n",
    "    # break"
   ]
  },
  {
   "cell_type": "code",
   "execution_count": null,
   "metadata": {},
   "outputs": [],
   "source": []
  }
 ],
 "metadata": {
  "kernelspec": {
   "display_name": "Python 3",
   "language": "python",
   "name": "python3"
  },
  "language_info": {
   "codemirror_mode": {
    "name": "ipython",
    "version": 3
   },
   "file_extension": ".py",
   "mimetype": "text/x-python",
   "name": "python",
   "nbconvert_exporter": "python",
   "pygments_lexer": "ipython3",
   "version": "3.9.6"
  }
 },
 "nbformat": 4,
 "nbformat_minor": 2
}
