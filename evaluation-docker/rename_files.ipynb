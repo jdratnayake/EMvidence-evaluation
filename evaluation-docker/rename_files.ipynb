{
 "cells": [
  {
   "cell_type": "code",
   "execution_count": null,
   "metadata": {},
   "outputs": [],
   "source": [
    "# janitha__CPU_Usage__cpu__centralized_plugin__m1\n",
    "# janitha__CPU_Usage__cpu__m1__distributed_plugin"
   ]
  },
  {
   "cell_type": "code",
   "execution_count": null,
   "metadata": {},
   "outputs": [],
   "source": [
    "import os\n",
    "\n",
    "def rename_files_in_directory(directory):\n",
    "    for filename in os.listdir(directory):\n",
    "        if filename.endswith(\".txt\"):\n",
    "            parts = filename.split(\".txt\")[0].split(\"__\")\n",
    "            new_filename = f\"{parts[0]}__{parts[1]}__{parts[2]}__{parts[4]}__{parts[3]}.txt\"\n",
    "            os.rename(os.path.join(directory, filename), os.path.join(directory, new_filename))\n",
    "            print(f\"Renamed {filename} to {new_filename}\")\n",
    "\n",
    "# Provide the directory containing the files to be renamed\n",
    "input_folder_path = \"./1_input/\"\n",
    "line_chart_folder_path = \"1_line_chart/\"\n",
    "directory_path = input_folder_path + line_chart_folder_path\n",
    "rename_files_in_directory(directory_path)\n"
   ]
  },
  {
   "cell_type": "code",
   "execution_count": null,
   "metadata": {},
   "outputs": [],
   "source": []
  }
 ],
 "metadata": {
  "kernelspec": {
   "display_name": "Python 3",
   "language": "python",
   "name": "python3"
  },
  "language_info": {
   "codemirror_mode": {
    "name": "ipython",
    "version": 3
   },
   "file_extension": ".py",
   "mimetype": "text/x-python",
   "name": "python",
   "nbconvert_exporter": "python",
   "pygments_lexer": "ipython3",
   "version": "3.9.6"
  }
 },
 "nbformat": 4,
 "nbformat_minor": 2
}
