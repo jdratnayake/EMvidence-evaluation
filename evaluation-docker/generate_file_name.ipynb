{
 "cells": [
  {
   "cell_type": "code",
   "execution_count": null,
   "metadata": {},
   "outputs": [],
   "source": []
  },
  {
   "cell_type": "code",
   "execution_count": null,
   "metadata": {},
   "outputs": [],
   "source": [
    "down_sampling_options = [\"Not Downsampled\", \"Down Sampled to 10MHz\"]\n",
    "overlap_size_options = [\"Overlap to 10%\", \"Overlap to 20%\"]\n",
    "sample_selection_options = [\"Select All Samples\", \"Select Samples From 1/4 to 3/4\"]\n",
    "machines = [\"m0\", \"m1\", \"m2\"]"
   ]
  },
  {
   "cell_type": "code",
   "execution_count": null,
   "metadata": {},
   "outputs": [],
   "source": [
    "name_mapper = {\n",
    "    \"Not Downsampled\": \"not_downsampled\",\n",
    "    \"Down Sampled to 10MHz\": \"down_sampled_to_10MHz\",\n",
    "    \"Overlap to 10%\": \"overlap_to_10\",\n",
    "    \"Overlap to 20%\": \"overlap_to_20\",\n",
    "    \"Select All Samples\": \"select_all_samples\",\n",
    "    \"Select Samples From 1/4 to 3/4\": \"select_samples_from_1_4_to_3_4\"\n",
    "}"
   ]
  },
  {
   "cell_type": "markdown",
   "metadata": {},
   "source": [
    "# Line Chart CPU Name Generation"
   ]
  },
  {
   "cell_type": "code",
   "execution_count": null,
   "metadata": {},
   "outputs": [],
   "source": [
    "# owner__title__cpu/memory__extraName__sandbox\n",
    "\n",
    "# e.g. janitha__CPU_Usage__cpu__centralized_plugin__m1\n",
    "# e.g. janitha__CPU_Usage__cpu__centralized_plugin__m2"
   ]
  },
  {
   "cell_type": "code",
   "execution_count": null,
   "metadata": {},
   "outputs": [],
   "source": [
    "owner = \"dinil\"\n",
    "title = \"Memory_Usage\"\n",
    "resource = \"memory\""
   ]
  },
  {
   "cell_type": "code",
   "execution_count": null,
   "metadata": {},
   "outputs": [],
   "source": [
    "for down_sampling_option in down_sampling_options:\n",
    "    for overlap_size_option in overlap_size_options:\n",
    "        for sample_selection_option in sample_selection_options:\n",
    "            for machine in machines:\n",
    "                extra_name = \"_\".join([name_mapper[down_sampling_option], name_mapper[overlap_size_option], name_mapper[sample_selection_option]])\n",
    "                name = \"__\".join([owner, title, resource, extra_name, machine])\n",
    "                print(name)"
   ]
  },
  {
   "cell_type": "markdown",
   "metadata": {},
   "source": [
    "# Box Plot CSV File Generation"
   ]
  },
  {
   "cell_type": "code",
   "execution_count": null,
   "metadata": {},
   "outputs": [],
   "source": []
  },
  {
   "cell_type": "code",
   "execution_count": null,
   "metadata": {},
   "outputs": [],
   "source": []
  }
 ],
 "metadata": {
  "kernelspec": {
   "display_name": "Python 3",
   "language": "python",
   "name": "python3"
  },
  "language_info": {
   "codemirror_mode": {
    "name": "ipython",
    "version": 3
   },
   "file_extension": ".py",
   "mimetype": "text/x-python",
   "name": "python",
   "nbconvert_exporter": "python",
   "pygments_lexer": "ipython3",
   "version": "3.9.6"
  }
 },
 "nbformat": 4,
 "nbformat_minor": 2
}
